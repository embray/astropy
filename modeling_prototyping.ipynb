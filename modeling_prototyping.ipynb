{
 "metadata": {
  "name": "",
  "signature": "sha256:2c7ab71703546d97bafb148a9fdcfc9eebf55d2deb9db3085d86ad9da1e7872e"
 },
 "nbformat": 3,
 "nbformat_minor": 0,
 "worksheets": [
  {
   "cells": [
    {
     "cell_type": "code",
     "collapsed": false,
     "input": [
      "import abc\n",
      "import functools\n",
      "import operator\n",
      "import textwrap\n",
      "\n",
      "from collections import deque\n",
      "from itertools import izip_longest"
     ],
     "language": "python",
     "metadata": {},
     "outputs": [],
     "prompt_number": 1
    },
    {
     "cell_type": "code",
     "collapsed": false,
     "input": [
      "OPERATORS = {\n",
      "    '+': lambda f, g: (lambda *args: f(*args) + g(*args)),\n",
      "    '-': lambda f, g: (lambda *args: f(*args) - g(*args)),\n",
      "    '*': lambda f, g: (lambda *args: f(*args) * g(*args)),\n",
      "    '/': lambda f, g: (lambda *args: f(*args) / g(*args)),\n",
      "    '**': lambda f, g: (lambda *args: f(*args) ** g(*args)),\n",
      "    '|': lambda f, g: (lambda *args: g(f(*args)))\n",
      "}"
     ],
     "language": "python",
     "metadata": {},
     "outputs": [],
     "prompt_number": 109
    },
    {
     "cell_type": "code",
     "collapsed": false,
     "input": [
      "# TODO: Support negation as well...\n",
      "\n",
      "class ModelMeta(abc.ABCMeta):\n",
      "    def __add__(cls, other):\n",
      "        return make_compound_model(cls, other, '+')\n",
      "    \n",
      "    def __sub__(cls, other):\n",
      "        return make_compound_model(cls, other, '-')\n",
      "    \n",
      "    def __mul__(cls, other):\n",
      "        return make_compound_model(cls, other, '*')\n",
      "    \n",
      "    def __div__(cls, other):\n",
      "        return make_compound_model(cls, other, '/')\n",
      "    \n",
      "    def __pow__(cls, other):\n",
      "        return make_compound_model(cls, other, '**')\n",
      "    \n",
      "    def __or__(cls, other):\n",
      "        return make_compound_model(cls, other, '|')"
     ],
     "language": "python",
     "metadata": {},
     "outputs": [],
     "prompt_number": 110
    },
    {
     "cell_type": "code",
     "collapsed": false,
     "input": [
      "class Model(object):\n",
      "    __metaclass__ = ModelMeta\n",
      "    \n",
      "    @abc.abstractmethod\n",
      "    def evaluate(self, *args):\n",
      "        pass\n",
      "    \n",
      "    def __call__(self, *args):\n",
      "        return self.evaluate(*args)\n",
      "    \n",
      "    def __add__(self, other):\n",
      "        return make_compound_model(self, other, '+')\n",
      "    \n",
      "    def __sub__(self, other):\n",
      "        return make_compound_model(self, other, '-')\n",
      "    \n",
      "    def __mul__(self, other):\n",
      "        return make_compound_model(self, other, '*')\n",
      "    \n",
      "    def __div__(self, other):\n",
      "        return make_compound_model(self, other, '/')\n",
      "    \n",
      "    def __pow__(self, other):\n",
      "        return make_compound_model(self, other, '**')\n",
      "        \n",
      "    def __or__(self, other):\n",
      "        return make_compound_model(self, other, '|')"
     ],
     "language": "python",
     "metadata": {},
     "outputs": [],
     "prompt_number": 111
    },
    {
     "cell_type": "code",
     "collapsed": false,
     "input": [
      "class _CompoundModel(Model):\n",
      "    tree = None\n",
      "    \n",
      "    @classmethod\n",
      "    def evaluate(cls, *args):\n",
      "        func = cls.tree.evaluate(OPERATORS, getter=lambda m: m.evaluate)\n",
      "        return func(*args)\n",
      "\n",
      "_name_counter = 0\n",
      "\n",
      "def make_compound_model(left, right, operator):\n",
      "    # Operator ignored right now\n",
      "    global _name_counter\n",
      "    \n",
      "    children = []\n",
      "    \n",
      "    for component in (left, right):\n",
      "        if isinstance(component, _CompoundModel):\n",
      "            children.append(component.tree)\n",
      "        elif isinstance(component, type) and issubclass(component, _CompoundModel):\n",
      "            children.append(component.tree)\n",
      "        else:\n",
      "            children.append(ExpressionTree(component))\n",
      "    \n",
      "    tree = ExpressionTree(operator, left=children[0], right=children[1])\n",
      "            \n",
      "    # TODO: Need a good schema for generating names\n",
      "    name = 'SomeUniqueName{0}'.format(_name_counter)\n",
      "    members = {'tree': tree,\n",
      "               '__module__': __name__}\n",
      "    \n",
      "    _name_counter += 1\n",
      "    \n",
      "    return type(name, (_CompoundModel,), members)"
     ],
     "language": "python",
     "metadata": {},
     "outputs": [],
     "prompt_number": 112
    },
    {
     "cell_type": "code",
     "collapsed": false,
     "input": [
      "class ExpressionTree(object):\n",
      "    __slots__ = ['left', 'right', 'value']\n",
      "\n",
      "    def __init__(self, value, left=None, right=None):\n",
      "        self.value = value\n",
      "        self.left = left\n",
      "        self.right = right\n",
      "\n",
      "    def __repr__(self):\n",
      "        return self.format_tree_ascii()\n",
      "        \n",
      "    @property\n",
      "    def isleaf(self):\n",
      "        return self.left is None and self.right is None\n",
      "\n",
      "    def leftmost(self):\n",
      "        \"\"\"\n",
      "        Returns the leftmost operand in the expression (ignoring grouping).\n",
      "        \"\"\"\n",
      "\n",
      "        if self.left is None:\n",
      "            return self.value\n",
      "        return self.left.leftmost()\n",
      "\n",
      "    def rightmost(self):\n",
      "        \"\"\"\n",
      "        Returns the rightmost operand in the expression (ignoring grouping).\n",
      "        \"\"\"\n",
      "\n",
      "        if self.right is None:\n",
      "            return self.value\n",
      "        return self.right.rightmost()\n",
      "\n",
      "    def traverse_preorder(self):\n",
      "        stack = deque([self])\n",
      "        while stack:\n",
      "            node = stack.pop()\n",
      "            yield node\n",
      "\n",
      "            if node.right is not None:\n",
      "                stack.append(node.right)\n",
      "            if node.left is not None:\n",
      "                stack.append(node.left)\n",
      "\n",
      "    def traverse_inorder(self):\n",
      "        stack = deque()\n",
      "        node = self\n",
      "        while stack or node is not None:\n",
      "            if node is not None:\n",
      "                stack.append(node)\n",
      "                node = node.left\n",
      "            else:\n",
      "                node = stack.pop()\n",
      "                yield node\n",
      "                node = node.right\n",
      "\n",
      "    def traverse_postorder(self):\n",
      "        stack = deque()\n",
      "        node = self\n",
      "        last = None\n",
      "        while stack or node is not None:\n",
      "            if node is not None:\n",
      "                stack.append(node)\n",
      "                node = node.left\n",
      "            else:\n",
      "                parent = stack[-1]\n",
      "                if parent.right is not None and last is not parent.right:\n",
      "                    node = parent.right\n",
      "                else:\n",
      "                    stack.pop()\n",
      "                    yield parent\n",
      "                    last = parent\n",
      "\n",
      "    def evaluate(self, operators, getter=None):\n",
      "        \"\"\"Evaluate the expression represented by this tree.\n",
      "\n",
      "        ``Operators`` should be a dictionary mapping operator names\n",
      "        ('tensor', 'product', etc.) to a function that implements that\n",
      "        operator for the correct number of operands.\n",
      "\n",
      "        If given, ``getter`` is a function evaluated on each *leaf* node's\n",
      "        value before applying the operator between them.  This could be used,\n",
      "        for example, to operate on an attribute of the node values rather than\n",
      "        directly on the node values.\n",
      "        \"\"\"\n",
      "\n",
      "        operands = deque()\n",
      "\n",
      "        for node in self.traverse_postorder():\n",
      "            if node.isleaf:\n",
      "                # For a \"tree\" containing just a single operator at the root\n",
      "                operands.append(getter(node.value))\n",
      "            else:\n",
      "                operator = operators[node.value]\n",
      "                right = operands.pop()\n",
      "                left = operands.pop()\n",
      "                operands.append(operator(left, right))\n",
      "\n",
      "        return operands.pop()\n",
      "    \n",
      "    def format_tree_ascii(self, format_leaf=str):\n",
      "        stack = deque()\n",
      "\n",
      "        for idx, node in enumerate(self.traverse_postorder()):\n",
      "            if node.isleaf:\n",
      "                text = format_leaf(idx)\n",
      "                stack.append((len(text), [text]))\n",
      "            else:\n",
      "                right_width, right = stack.pop()\n",
      "                left_width, left = stack.pop()\n",
      "\n",
      "                if left_width > right_width:\n",
      "                    right = [r.center(left_width) for r in right]\n",
      "                    child_width = left_width\n",
      "                elif right_width > left_width:\n",
      "                    left = [l.center(right_width) for l in left]\n",
      "                    child_width = right_width\n",
      "                else:\n",
      "                    child_width = left_width  # without loss of generality\n",
      "\n",
      "                root = '[{0}]'.format(node.value)\n",
      "                spine = '/   \\\\'\n",
      "                fill = ' ' * len(spine)\n",
      "                width = 2 * child_width + len(fill)\n",
      "\n",
      "                offset = child_width - (child_width % 2)\n",
      "                spine = spine.center(width - 2 - offset, '_').center(width)\n",
      "                root = root.center(width)\n",
      "\n",
      "                lines = [root, spine]\n",
      "                for l, r in izip_longest(left, right, fillvalue=' ' * child_width):\n",
      "                    lines.append(l + fill + r)\n",
      "\n",
      "                stack.append((width, lines))\n",
      "\n",
      "        return textwrap.dedent('\\n'.join(stack[0][1]))"
     ],
     "language": "python",
     "metadata": {},
     "outputs": [],
     "prompt_number": 136
    },
    {
     "cell_type": "code",
     "collapsed": false,
     "input": [
      "class Identity(Model):\n",
      "    def __init__(self, name=''):\n",
      "        self.name = name\n",
      "        \n",
      "    def __str__(self):\n",
      "        return self.name\n",
      "        \n",
      "    @staticmethod\n",
      "    def evaluate(x):\n",
      "        return x\n",
      "    \n",
      "\n",
      "class Square(Model):\n",
      "    @staticmethod\n",
      "    def evaluate(x):\n",
      "        return x ** 2\n",
      "    \n",
      "    \n",
      "class Cube(Model):\n",
      "    @staticmethod\n",
      "    def evaluate(x):\n",
      "        return x ** 3\n",
      "    \n",
      "    \n",
      "class Shift(Model):\n",
      "    @staticmethod\n",
      "    def evaluate(x):\n",
      "        return x + 1"
     ],
     "language": "python",
     "metadata": {},
     "outputs": [],
     "prompt_number": 137
    },
    {
     "cell_type": "code",
     "collapsed": false,
     "input": [
      "Identity()(1)"
     ],
     "language": "python",
     "metadata": {},
     "outputs": [
      {
       "metadata": {},
       "output_type": "pyout",
       "prompt_number": 138,
       "text": [
        "1"
       ]
      }
     ],
     "prompt_number": 138
    },
    {
     "cell_type": "code",
     "collapsed": false,
     "input": [
      "t = ((Identity + Identity) * Identity)"
     ],
     "language": "python",
     "metadata": {},
     "outputs": [],
     "prompt_number": 139
    },
    {
     "cell_type": "code",
     "collapsed": false,
     "input": [
      "t()(4)"
     ],
     "language": "python",
     "metadata": {},
     "outputs": [
      {
       "metadata": {},
       "output_type": "pyout",
       "prompt_number": 140,
       "text": [
        "32"
       ]
      }
     ],
     "prompt_number": 140
    },
    {
     "cell_type": "code",
     "collapsed": false,
     "input": [
      "t2 = (Identity + Square) * Identity\n",
      "t2()(4)"
     ],
     "language": "python",
     "metadata": {},
     "outputs": [
      {
       "metadata": {},
       "output_type": "pyout",
       "prompt_number": 141,
       "text": [
        "80"
       ]
      }
     ],
     "prompt_number": 141
    },
    {
     "cell_type": "code",
     "collapsed": false,
     "input": [
      "t3 = (Identity | Square)()"
     ],
     "language": "python",
     "metadata": {},
     "outputs": [],
     "prompt_number": 142
    },
    {
     "cell_type": "code",
     "collapsed": false,
     "input": [
      "t3.tree"
     ],
     "language": "python",
     "metadata": {},
     "outputs": [
      {
       "metadata": {},
       "output_type": "pyout",
       "prompt_number": 143,
       "text": [
        "  [|]  \n",
        " /   \\ \n",
        "0     1"
       ]
      }
     ],
     "prompt_number": 143
    },
    {
     "cell_type": "code",
     "collapsed": false,
     "input": [
      "t3(2)"
     ],
     "language": "python",
     "metadata": {},
     "outputs": [
      {
       "metadata": {},
       "output_type": "pyout",
       "prompt_number": 144,
       "text": [
        "4"
       ]
      }
     ],
     "prompt_number": 144
    },
    {
     "cell_type": "code",
     "collapsed": false,
     "input": [
      "(Identity | Identity)()(27)"
     ],
     "language": "python",
     "metadata": {},
     "outputs": [
      {
       "metadata": {},
       "output_type": "pyout",
       "prompt_number": 145,
       "text": [
        "27"
       ]
      }
     ],
     "prompt_number": 145
    },
    {
     "cell_type": "code",
     "collapsed": false,
     "input": [
      "(Square | Square)()(2)"
     ],
     "language": "python",
     "metadata": {},
     "outputs": [
      {
       "metadata": {},
       "output_type": "pyout",
       "prompt_number": 146,
       "text": [
        "16"
       ]
      }
     ],
     "prompt_number": 146
    },
    {
     "cell_type": "code",
     "collapsed": false,
     "input": [
      "((Square | Shift) * Identity)()(3)"
     ],
     "language": "python",
     "metadata": {},
     "outputs": [
      {
       "metadata": {},
       "output_type": "pyout",
       "prompt_number": 147,
       "text": [
        "30"
       ]
      }
     ],
     "prompt_number": 147
    },
    {
     "cell_type": "code",
     "collapsed": false,
     "input": [
      "asdf = ((Shift | Shift | Square) + (Cube | (Shift + Shift)))()\n",
      "asdf(2)"
     ],
     "language": "python",
     "metadata": {},
     "outputs": [
      {
       "metadata": {},
       "output_type": "pyout",
       "prompt_number": 148,
       "text": [
        "34"
       ]
      }
     ],
     "prompt_number": 148
    },
    {
     "cell_type": "code",
     "collapsed": false,
     "input": [
      "[x.value for x in asdf.tree.traverse_postorder() if isinstance(x.value, Model) or (isinstance(x.value, type) and issubclass(x.value, Model))]"
     ],
     "language": "python",
     "metadata": {},
     "outputs": [
      {
       "metadata": {},
       "output_type": "pyout",
       "prompt_number": 149,
       "text": [
        "[__main__.Shift,\n",
        " __main__.Shift,\n",
        " __main__.Square,\n",
        " __main__.Cube,\n",
        " __main__.Shift,\n",
        " __main__.Shift]"
       ]
      }
     ],
     "prompt_number": 149
    },
    {
     "cell_type": "code",
     "collapsed": false,
     "input": [
      "asdf.tree"
     ],
     "language": "python",
     "metadata": {},
     "outputs": [
      {
       "metadata": {},
       "output_type": "pyout",
       "prompt_number": 150,
       "text": [
        "                    [+]                    \n",
        "          _________/   \\_________          \n",
        "        [|]                     [|]        \n",
        "    ___/   \\___             ___/   \\___    \n",
        "  [|]          3           5          [+]  \n",
        " /   \\                               /   \\ \n",
        "0     1                             6     7"
       ]
      }
     ],
     "prompt_number": 150
    },
    {
     "cell_type": "markdown",
     "metadata": {},
     "source": [
      "`a + (b * c) -->`\n",
      "\n",
      "```\n",
      "      +\n",
      "  a        *\n",
      "        b      c\n",
      "```"
     ]
    },
    {
     "cell_type": "code",
     "collapsed": false,
     "input": [
      "tree = ExpressionTree('+', ExpressionTree('a'), ExpressionTree('*', ExpressionTree('b'), ExpressionTree('c')))"
     ],
     "language": "python",
     "metadata": {},
     "outputs": [],
     "prompt_number": 390
    },
    {
     "cell_type": "code",
     "collapsed": false,
     "input": [
      "[t.value for t in tree.traverse_preorder()]"
     ],
     "language": "python",
     "metadata": {},
     "outputs": [
      {
       "metadata": {},
       "output_type": "pyout",
       "prompt_number": 391,
       "text": [
        "['+', 'a', '*', 'b', 'c']"
       ]
      }
     ],
     "prompt_number": 391
    },
    {
     "cell_type": "code",
     "collapsed": false,
     "input": [
      "[t.value for t in tree.traverse_postorder()]"
     ],
     "language": "python",
     "metadata": {},
     "outputs": [
      {
       "metadata": {},
       "output_type": "pyout",
       "prompt_number": 392,
       "text": [
        "['a', 'b', 'c', '*', '+']"
       ]
      }
     ],
     "prompt_number": 392
    },
    {
     "cell_type": "code",
     "collapsed": false,
     "input": [
      "[t.value for t in tree.traverse_inorder()]"
     ],
     "language": "python",
     "metadata": {},
     "outputs": [
      {
       "metadata": {},
       "output_type": "pyout",
       "prompt_number": 73,
       "text": [
        "['a', '+', 'b', '*', 'c']"
       ]
      }
     ],
     "prompt_number": 73
    },
    {
     "cell_type": "code",
     "collapsed": false,
     "input": [
      "x = ExpressionTree('+', ExpressionTree('a'), ExpressionTree('abc'))\n",
      "print format_tree_ascii(x)"
     ],
     "language": "python",
     "metadata": {},
     "outputs": [
      {
       "output_type": "stream",
       "stream": "stdout",
       "text": [
        "   [+]    \n",
        " _/   \\_  \n",
        "a      abc\n"
       ]
      }
     ],
     "prompt_number": 699
    },
    {
     "cell_type": "code",
     "collapsed": false,
     "input": [
      "a = Identity('a')\n",
      "b = Identity('b')\n",
      "c = Identity('c')\n",
      "\n",
      "abc = a + (b * c)\n",
      "print format_tree_ascii(abc.tree)"
     ],
     "language": "python",
     "metadata": {},
     "outputs": [
      {
       "output_type": "stream",
       "stream": "stdout",
       "text": [
        "     [+]        \n",
        " ___/   \\___    \n",
        "a          [*]  \n",
        "          /   \\ \n",
        "         b     c\n"
       ]
      }
     ],
     "prompt_number": 685
    },
    {
     "cell_type": "code",
     "collapsed": false,
     "input": [
      "a = Identity('a')\n",
      "b = Identity('b')\n",
      "c = Identity('c')\n",
      "d = Identity('d')\n",
      "\n",
      "abcd = (a * b) + (c * d)\n",
      "print [str(t.value) for t in abcd.tree.traverse_postorder()]\n",
      "print format_tree_ascii(abcd.tree)"
     ],
     "language": "python",
     "metadata": {},
     "outputs": [
      {
       "output_type": "stream",
       "stream": "stdout",
       "text": [
        "['a', 'b', '*', 'c', 'd', '*', '+']\n",
        "        [+]        \n",
        "    ___/   \\___    \n",
        "  [*]         [*]  \n",
        " /   \\       /   \\ \n",
        "a     b     c     d\n"
       ]
      }
     ],
     "prompt_number": 686
    },
    {
     "cell_type": "code",
     "collapsed": false,
     "input": [
      "a = Identity('abcde')\n",
      "b = Identity('b')\n",
      "c = Identity('ce')\n",
      "\n",
      "abc = (b * c) + a\n",
      "print format_tree_ascii(abc.tree)"
     ],
     "language": "python",
     "metadata": {},
     "outputs": [
      {
       "output_type": "stream",
       "stream": "stdout",
       "text": [
        "          [+]          \n",
        "     ____/   \\____     \n",
        "   [*]          abcde  \n",
        "  /   \\                \n",
        "b      ce              \n"
       ]
      }
     ],
     "prompt_number": 687
    },
    {
     "cell_type": "code",
     "collapsed": false,
     "input": [
      "x = lambda a, b: (lambda c: a + b + c)"
     ],
     "language": "python",
     "metadata": {},
     "outputs": [],
     "prompt_number": 707
    },
    {
     "cell_type": "code",
     "collapsed": false,
     "input": [
      "x(1, 2)(3)"
     ],
     "language": "python",
     "metadata": {},
     "outputs": [
      {
       "metadata": {},
       "output_type": "pyout",
       "prompt_number": 709,
       "text": [
        "6"
       ]
      }
     ],
     "prompt_number": 709
    },
    {
     "cell_type": "code",
     "collapsed": false,
     "input": [
      "import dis\n",
      "import inspect\n",
      "import linecache"
     ],
     "language": "python",
     "metadata": {},
     "outputs": [],
     "prompt_number": 187
    },
    {
     "cell_type": "code",
     "collapsed": false,
     "input": [
      "frame = inspect.currentframe(0)\n",
      "print \"hello\"\n",
      "print \"stuff\"\n",
      "\n",
      "a = 1\n",
      "b = 2\n",
      "c = 3\n",
      "\n",
      "a + b * c ** a | b + c\n",
      "\n",
      "print \"goodbye\"\n",
      "print \"-------\"\n",
      "cell_name = inspect.getfile(frame.f_code)\n",
      "source = ''.join(linecache.getlines(cell_name))\n",
      "\n",
      "new_code = compile(source, cell_name, \"exec\")\n",
      "dis.dis(new_code)"
     ],
     "language": "python",
     "metadata": {},
     "outputs": [
      {
       "output_type": "stream",
       "stream": "stdout",
       "text": [
        "hello\n",
        "stuff\n",
        "goodbye\n",
        "-------\n",
        "  1           0 LOAD_NAME                0 (inspect)\n",
        "              3 LOAD_ATTR                1 (currentframe)\n",
        "              6 LOAD_CONST               0 (0)\n",
        "              9 CALL_FUNCTION            1\n",
        "             12 STORE_NAME               2 (frame)\n",
        "\n",
        "  2          15 LOAD_CONST               1 ('hello')\n",
        "             18 PRINT_ITEM          \n",
        "             19 PRINT_NEWLINE       \n",
        "\n",
        "  3          20 LOAD_CONST               2 ('stuff')\n",
        "             23 PRINT_ITEM          \n",
        "             24 PRINT_NEWLINE       \n",
        "\n",
        "  5          25 LOAD_CONST               3 (1)\n",
        "             28 STORE_NAME               3 (a)\n",
        "\n",
        "  6          31 LOAD_CONST               4 (2)\n",
        "             34 STORE_NAME               4 (b)\n",
        "\n",
        "  7          37 LOAD_CONST               5 (3)\n",
        "             40 STORE_NAME               5 (c)\n",
        "\n",
        "  9          43 LOAD_NAME                3 (a)\n",
        "             46 LOAD_NAME                4 (b)\n",
        "             49 LOAD_NAME                5 (c)\n",
        "             52 LOAD_NAME                3 (a)\n",
        "             55 BINARY_POWER        \n",
        "             56 BINARY_MULTIPLY     \n",
        "             57 BINARY_ADD          \n",
        "             58 LOAD_NAME                4 (b)\n",
        "             61 LOAD_NAME                5 (c)\n",
        "             64 BINARY_ADD          \n",
        "             65 BINARY_OR           \n",
        "             66 POP_TOP             \n",
        "\n",
        " 11          67 LOAD_CONST               6 ('goodbye')\n",
        "             70 PRINT_ITEM          \n",
        "             71 PRINT_NEWLINE       \n",
        "\n",
        " 12          72 LOAD_CONST               7 ('-------')\n",
        "             75 PRINT_ITEM          \n",
        "             76 PRINT_NEWLINE       \n",
        "\n",
        " 13          77 LOAD_NAME                0 (inspect)\n",
        "             80 LOAD_ATTR                6 (getfile)\n",
        "             83 LOAD_NAME                2 (frame)\n",
        "             86 LOAD_ATTR                7 (f_code)\n",
        "             89 CALL_FUNCTION            1\n",
        "             92 STORE_NAME               8 (cell_name)\n",
        "\n",
        " 14          95 LOAD_CONST               8 ('')\n",
        "             98 LOAD_ATTR                9 (join)\n",
        "            101 LOAD_NAME               10 (linecache)\n",
        "            104 LOAD_ATTR               11 (getlines)\n",
        "            107 LOAD_NAME                8 (cell_name)\n",
        "            110 CALL_FUNCTION            1\n",
        "            113 CALL_FUNCTION            1\n",
        "            116 STORE_NAME              12 (source)\n",
        "\n",
        " 16         119 LOAD_NAME               13 (compile)\n",
        "            122 LOAD_NAME               12 (source)\n",
        "            125 LOAD_NAME                8 (cell_name)\n",
        "            128 LOAD_CONST               9 ('exec')\n",
        "            131 CALL_FUNCTION            3\n",
        "            134 STORE_NAME              14 (new_code)\n",
        "\n",
        " 17         137 LOAD_NAME               15 (dis)\n",
        "            140 LOAD_ATTR               15 (dis)\n",
        "            143 LOAD_NAME               14 (new_code)\n",
        "            146 CALL_FUNCTION            1\n",
        "            149 POP_TOP             \n",
        "            150 LOAD_CONST              10 (None)\n",
        "            153 RETURN_VALUE        \n"
       ]
      }
     ],
     "prompt_number": 241
    },
    {
     "cell_type": "code",
     "collapsed": false,
     "input": [
      "dis.dis(foo)"
     ],
     "language": "python",
     "metadata": {},
     "outputs": [
      {
       "output_type": "stream",
       "stream": "stdout",
       "text": [
        "  6           0 LOAD_GLOBAL              0 (a)\n",
        "              3 LOAD_GLOBAL              1 (b)\n",
        "              6 LOAD_GLOBAL              2 (c)\n",
        "              9 LOAD_GLOBAL              0 (a)\n",
        "             12 BINARY_POWER        \n",
        "             13 BINARY_MULTIPLY     \n",
        "             14 BINARY_ADD          \n",
        "             15 LOAD_GLOBAL              1 (b)\n",
        "             18 LOAD_GLOBAL              2 (c)\n",
        "             21 BINARY_ADD          \n",
        "             22 BINARY_OR           \n",
        "             23 RETURN_VALUE        \n"
       ]
      }
     ],
     "prompt_number": 153
    },
    {
     "cell_type": "code",
     "collapsed": false,
     "input": [
      "a = 1\n",
      "dis.dis(inspect.currentframe(0).f_code)\n",
      "print a"
     ],
     "language": "python",
     "metadata": {},
     "outputs": [
      {
       "output_type": "stream",
       "stream": "stdout",
       "text": [
        "  2           0 LOAD_NAME                0 (dis)\n",
        "              3 LOAD_ATTR                0 (dis)\n",
        "              6 LOAD_NAME                1 (inspect)\n",
        "              9 LOAD_ATTR                2 (currentframe)\n",
        "             12 LOAD_CONST               0 (0)\n",
        "             15 CALL_FUNCTION            1\n",
        "             18 LOAD_ATTR                3 (f_code)\n",
        "             21 CALL_FUNCTION            1\n",
        "             24 POP_TOP             \n",
        "             25 LOAD_CONST               1 (None)\n",
        "             28 RETURN_VALUE        \n",
        "1\n"
       ]
      }
     ],
     "prompt_number": 184
    },
    {
     "cell_type": "code",
     "collapsed": false,
     "input": [
      "import hashlib\n",
      "\n",
      "code = \"\"\"\\\n",
      "code = inspect.currentframe(0).f_code\n",
      "print \"hello\"\n",
      "print \"stuff\"\n",
      "\n",
      "a = 1\n",
      "b = 2\n",
      "c = 3\n",
      "\n",
      "a + b * c ** a | b + c\n",
      "\n",
      "print \"goodbye\"\n",
      "\n",
      "inspect.getfile(code)\n",
      "\"\"\"\n",
      "\n",
      "\n",
      "hashlib.md5(code.encode(\"utf-8\")).hexdigest()[:12]"
     ],
     "language": "python",
     "metadata": {},
     "outputs": [
      {
       "metadata": {},
       "output_type": "pyout",
       "prompt_number": 208,
       "text": [
        "'bfd80dfdfa57'"
       ]
      }
     ],
     "prompt_number": 208
    },
    {
     "cell_type": "code",
     "collapsed": false,
     "input": [
      "compile?"
     ],
     "language": "python",
     "metadata": {},
     "outputs": [],
     "prompt_number": 238
    }
   ],
   "metadata": {}
  }
 ]
}