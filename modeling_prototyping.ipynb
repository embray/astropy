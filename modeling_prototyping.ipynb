{
 "metadata": {
  "name": "",
  "signature": "sha256:d265cd172dc0e121c871ac27393a1e31e2e0a82752f4c9ea8f2c0ccdb7e98c1b"
 },
 "nbformat": 3,
 "nbformat_minor": 0,
 "worksheets": [
  {
   "cells": [
    {
     "cell_type": "code",
     "collapsed": false,
     "input": [
      "import abc\n",
      "import functools\n",
      "import operator\n",
      "import textwrap\n",
      "\n",
      "from collections import deque\n",
      "from itertools import izip_longest"
     ],
     "language": "python",
     "metadata": {},
     "outputs": [],
     "prompt_number": 1
    },
    {
     "cell_type": "code",
     "collapsed": false,
     "input": [
      "OPERATORS = {\n",
      "    '+': operator.add,\n",
      "    '-': operator.sub,\n",
      "    '*': operator.mul,\n",
      "    '/': operator.div,\n",
      "    '**': operator.pow,\n",
      "    '|': lambda f, g: (lambda *args: g(f(*args)))\n",
      "}"
     ],
     "language": "python",
     "metadata": {},
     "outputs": [],
     "prompt_number": 2
    },
    {
     "cell_type": "code",
     "collapsed": false,
     "input": [
      "# TODO: Support negation as well...\n",
      "\n",
      "class ModelMeta(abc.ABCMeta):\n",
      "    def __add__(cls, other):\n",
      "        return make_compound_model(cls, other, '+')\n",
      "    \n",
      "    def __sub__(cls, other):\n",
      "        return make_compound_model(cls, other, '-')\n",
      "    \n",
      "    def __mul__(cls, other):\n",
      "        return make_compound_model(cls, other, '*')\n",
      "    \n",
      "    def __div__(cls, other):\n",
      "        return make_compound_model(cls, other, '/')\n",
      "    \n",
      "    def __pow__(cls, other):\n",
      "        return make_compound_model(cls, other, '**')\n",
      "    \n",
      "    def __or__(cls, other):\n",
      "        return make_compound_model(cls, other, '|')"
     ],
     "language": "python",
     "metadata": {},
     "outputs": [],
     "prompt_number": 3
    },
    {
     "cell_type": "code",
     "collapsed": false,
     "input": [
      "class Model(object):\n",
      "    __metaclass__ = ModelMeta\n",
      "    \n",
      "    @abc.abstractmethod\n",
      "    def evaluate(self, *args):\n",
      "        pass\n",
      "    \n",
      "    def __call__(self, *args):\n",
      "        return self.evaluate(*args)\n",
      "    \n",
      "    def __add__(self, other):\n",
      "        return make_compound_model(self, other, '+')\n",
      "    \n",
      "    def __sub__(self, other):\n",
      "        return make_compound_model(self, other, '-')\n",
      "    \n",
      "    def __mul__(self, other):\n",
      "        return make_compound_model(self, other, '*')\n",
      "    \n",
      "    def __div__(self, other):\n",
      "        return make_compound_model(self, other, '/')\n",
      "    \n",
      "    def __pow__(self, other):\n",
      "        return make_compound_model(self, other, '**')\n",
      "        \n",
      "    def __or__(self, other):\n",
      "        return make_compound_model(self, other, '|')"
     ],
     "language": "python",
     "metadata": {},
     "outputs": [],
     "prompt_number": 6
    },
    {
     "cell_type": "code",
     "collapsed": false,
     "input": [
      "class _CompoundModel(Model):\n",
      "    tree = None\n",
      "    \n",
      "    @classmethod\n",
      "    def evaluate(cls, *args):\n",
      "        def getter(m):\n",
      "            return (args, m.evaluate)\n",
      "        \n",
      "        def oper(opname, left, right):\n",
      "            op = OPERATORS[opname]\n",
      "            leftargs, leftfunc = left\n",
      "            rightargs, rightfunc = right\n",
      "            \n",
      "            if opname == '|':\n",
      "                result = op(leftfunc, rightfunc)\n",
      "                #outargs = (result(*leftargs),)\n",
      "                #return (outargs, result)\n",
      "                return (leftargs, result)\n",
      "            \n",
      "            return (leftargs, lambda *args: op(leftfunc(*args), rightfunc(*args)))\n",
      "        \n",
      "        operators = dict((opname, functools.partial(oper, opname))\n",
      "                         for opname in OPERATORS)\n",
      "        \n",
      "        args, func = cls.tree.evaluate(operators, getter=getter)\n",
      "        return func(*args)\n",
      "\n",
      "_name_counter = 0\n",
      "\n",
      "def make_compound_model(left, right, operator):\n",
      "    # Operator ignored right now\n",
      "    global _name_counter\n",
      "    \n",
      "    children = []\n",
      "    \n",
      "    for component in (left, right):\n",
      "        if isinstance(component, _CompoundModel):\n",
      "            children.append(component.tree)\n",
      "        elif isinstance(component, type) and issubclass(component, _CompoundModel):\n",
      "            children.append(component.tree)\n",
      "        else:\n",
      "            children.append(ExpressionTree(component))\n",
      "    \n",
      "    tree = ExpressionTree(operator, left=children[0], right=children[1])\n",
      "            \n",
      "    # TODO: Need a good schema for generating names\n",
      "    name = 'SomeUniqueName{0}'.format(_name_counter)\n",
      "    members = {'tree': tree,\n",
      "               '__module__': __name__}\n",
      "    \n",
      "    _name_counter += 1\n",
      "    \n",
      "    return type(name, (_CompoundModel,), members)"
     ],
     "language": "python",
     "metadata": {},
     "outputs": [],
     "prompt_number": 64
    },
    {
     "cell_type": "code",
     "collapsed": false,
     "input": [
      "class ExpressionTree(object):\n",
      "    __slots__ = ['left', 'right', 'value']\n",
      "\n",
      "    def __init__(self, value, left=None, right=None):\n",
      "        self.value = value\n",
      "        self.left = left\n",
      "        self.right = right\n",
      "\n",
      "    def __repr__(self):\n",
      "        return self.format_tree_ascii()\n",
      "        \n",
      "    @property\n",
      "    def isleaf(self):\n",
      "        return self.left is None and self.right is None\n",
      "\n",
      "    def leftmost(self):\n",
      "        \"\"\"\n",
      "        Returns the leftmost operand in the expression (ignoring grouping).\n",
      "        \"\"\"\n",
      "\n",
      "        if self.left is None:\n",
      "            return self.value\n",
      "        return self.left.leftmost()\n",
      "\n",
      "    def rightmost(self):\n",
      "        \"\"\"\n",
      "        Returns the rightmost operand in the expression (ignoring grouping).\n",
      "        \"\"\"\n",
      "\n",
      "        if self.right is None:\n",
      "            return self.value\n",
      "        return self.right.rightmost()\n",
      "\n",
      "    def traverse_preorder(self):\n",
      "        stack = deque([self])\n",
      "        while stack:\n",
      "            node = stack.pop()\n",
      "            yield node\n",
      "\n",
      "            if node.right is not None:\n",
      "                stack.append(node.right)\n",
      "            if node.left is not None:\n",
      "                stack.append(node.left)\n",
      "\n",
      "    def traverse_inorder(self):\n",
      "        stack = deque()\n",
      "        node = self\n",
      "        while stack or node is not None:\n",
      "            if node is not None:\n",
      "                stack.append(node)\n",
      "                node = node.left\n",
      "            else:\n",
      "                node = stack.pop()\n",
      "                yield node\n",
      "                node = node.right\n",
      "\n",
      "    def traverse_postorder(self):\n",
      "        stack = deque()\n",
      "        node = self\n",
      "        last = None\n",
      "        while stack or node is not None:\n",
      "            if node is not None:\n",
      "                stack.append(node)\n",
      "                node = node.left\n",
      "            else:\n",
      "                parent = stack[-1]\n",
      "                if parent.right is not None and last is not parent.right:\n",
      "                    node = parent.right\n",
      "                else:\n",
      "                    stack.pop()\n",
      "                    yield parent\n",
      "                    last = parent\n",
      "\n",
      "    def evaluate(self, operators, getter=None):\n",
      "        \"\"\"Evaluate the expression represented by this tree.\n",
      "\n",
      "        ``Operators`` should be a dictionary mapping operator names\n",
      "        ('tensor', 'product', etc.) to a function that implements that\n",
      "        operator for the correct number of operands.\n",
      "\n",
      "        If given, ``getter`` is a function evaluated on each *leaf* node's\n",
      "        value before applying the operator between them.  This could be used,\n",
      "        for example, to operate on an attribute of the node values rather than\n",
      "        directly on the node values.\n",
      "        \"\"\"\n",
      "\n",
      "        operands = deque()\n",
      "\n",
      "        for node in self.traverse_postorder():\n",
      "            if node.isleaf:\n",
      "                # For a \"tree\" containing just a single operator at the root\n",
      "                operands.append(getter(node.value))\n",
      "            else:\n",
      "                operator = operators[node.value]\n",
      "                right = operands.pop()\n",
      "                left = operands.pop()\n",
      "                operands.append(operator(left, right))\n",
      "\n",
      "        return operands.pop()\n",
      "    \n",
      "    def format_tree_ascii(self, format_leaf=str):\n",
      "        stack = deque()\n",
      "\n",
      "        for node in self.traverse_postorder():\n",
      "            if node.isleaf:\n",
      "                text = format_leaf(node.value)\n",
      "                stack.append((len(text), [text]))\n",
      "            else:\n",
      "                right_width, right = stack.pop()\n",
      "                left_width, left = stack.pop()\n",
      "\n",
      "                if left_width > right_width:\n",
      "                    right = [r.center(left_width) for r in right]\n",
      "                    child_width = left_width\n",
      "                elif right_width > left_width:\n",
      "                    left = [l.center(right_width) for l in left]\n",
      "                    child_width = right_width\n",
      "                else:\n",
      "                    child_width = left_width  # without loss of generality\n",
      "\n",
      "                root = '[{0}]'.format(node.value)\n",
      "                spine = '/   \\\\'\n",
      "                fill = ' ' * len(spine)\n",
      "                width = 2 * child_width + len(fill)\n",
      "\n",
      "                offset = child_width - (child_width % 2)\n",
      "                spine = spine.center(width - 2 - offset, '_').center(width)\n",
      "                root = root.center(width)\n",
      "\n",
      "                lines = [root, spine]\n",
      "                for l, r in izip_longest(left, right, fillvalue=' ' * child_width):\n",
      "                    lines.append(l + fill + r)\n",
      "\n",
      "                stack.append((width, lines))\n",
      "\n",
      "        return textwrap.dedent('\\n'.join(stack[0][1]))"
     ],
     "language": "python",
     "metadata": {},
     "outputs": [],
     "prompt_number": 35
    },
    {
     "cell_type": "code",
     "collapsed": false,
     "input": [
      "class Identity(Model):\n",
      "    def __init__(self, name=''):\n",
      "        self.name = name\n",
      "        \n",
      "    def __str__(self):\n",
      "        return self.name\n",
      "        \n",
      "    @staticmethod\n",
      "    def evaluate(x):\n",
      "        return x\n",
      "    \n",
      "\n",
      "class Square(Model):\n",
      "    @staticmethod\n",
      "    def evaluate(x):\n",
      "        return x ** 2\n",
      "    \n",
      "    \n",
      "class Cube(Model):\n",
      "    @staticmethod\n",
      "    def evaluate(x):\n",
      "        return x ** 3\n",
      "    \n",
      "    \n",
      "class Shift(Model):\n",
      "    @staticmethod\n",
      "    def evaluate(x):\n",
      "        return x + 1"
     ],
     "language": "python",
     "metadata": {},
     "outputs": [],
     "prompt_number": 77
    },
    {
     "cell_type": "code",
     "collapsed": false,
     "input": [
      "Identity()(1)"
     ],
     "language": "python",
     "metadata": {},
     "outputs": [
      {
       "metadata": {},
       "output_type": "pyout",
       "prompt_number": 66,
       "text": [
        "1"
       ]
      }
     ],
     "prompt_number": 66
    },
    {
     "cell_type": "code",
     "collapsed": false,
     "input": [
      "t = ((Identity + Identity) * Identity)"
     ],
     "language": "python",
     "metadata": {},
     "outputs": [],
     "prompt_number": 67
    },
    {
     "cell_type": "code",
     "collapsed": false,
     "input": [
      "t()(4)"
     ],
     "language": "python",
     "metadata": {},
     "outputs": [
      {
       "metadata": {},
       "output_type": "pyout",
       "prompt_number": 68,
       "text": [
        "32"
       ]
      }
     ],
     "prompt_number": 68
    },
    {
     "cell_type": "code",
     "collapsed": false,
     "input": [
      "t2 = (Identity + Square) * Identity\n",
      "t2()(4)"
     ],
     "language": "python",
     "metadata": {},
     "outputs": [
      {
       "metadata": {},
       "output_type": "pyout",
       "prompt_number": 69,
       "text": [
        "80"
       ]
      }
     ],
     "prompt_number": 69
    },
    {
     "cell_type": "code",
     "collapsed": false,
     "input": [
      "t3 = (Identity | Square)()"
     ],
     "language": "python",
     "metadata": {},
     "outputs": [],
     "prompt_number": 70
    },
    {
     "cell_type": "code",
     "collapsed": false,
     "input": [
      "t3.tree"
     ],
     "language": "python",
     "metadata": {},
     "outputs": [
      {
       "metadata": {},
       "output_type": "pyout",
       "prompt_number": 71,
       "text": [
        "                            [|]                            \n",
        "              _____________/   \\_____________              \n",
        "<class '__main__.Identity'>      <class '__main__.Square'> "
       ]
      }
     ],
     "prompt_number": 71
    },
    {
     "cell_type": "code",
     "collapsed": false,
     "input": [
      "t3(2)"
     ],
     "language": "python",
     "metadata": {},
     "outputs": [
      {
       "metadata": {},
       "output_type": "pyout",
       "prompt_number": 72,
       "text": [
        "4"
       ]
      }
     ],
     "prompt_number": 72
    },
    {
     "cell_type": "code",
     "collapsed": false,
     "input": [
      "(Identity | Identity)()(27)"
     ],
     "language": "python",
     "metadata": {},
     "outputs": [
      {
       "metadata": {},
       "output_type": "pyout",
       "prompt_number": 73,
       "text": [
        "27"
       ]
      }
     ],
     "prompt_number": 73
    },
    {
     "cell_type": "code",
     "collapsed": false,
     "input": [
      "(Square | Square)()(2)"
     ],
     "language": "python",
     "metadata": {},
     "outputs": [
      {
       "metadata": {},
       "output_type": "pyout",
       "prompt_number": 75,
       "text": [
        "16"
       ]
      }
     ],
     "prompt_number": 75
    },
    {
     "cell_type": "code",
     "collapsed": false,
     "input": [
      "((Square | Shift) * Identity)()(3)"
     ],
     "language": "python",
     "metadata": {},
     "outputs": [
      {
       "metadata": {},
       "output_type": "pyout",
       "prompt_number": 80,
       "text": [
        "30"
       ]
      }
     ],
     "prompt_number": 80
    },
    {
     "cell_type": "code",
     "collapsed": false,
     "input": [
      "pdb.run(\"t3(2)\")"
     ],
     "language": "python",
     "metadata": {},
     "outputs": [
      {
       "output_type": "stream",
       "stream": "stdout",
       "text": [
        "> <string>(1)<module>()\n"
       ]
      },
      {
       "name": "stdout",
       "output_type": "stream",
       "stream": "stdout",
       "text": [
        "(Pdb) s\n"
       ]
      },
      {
       "output_type": "stream",
       "stream": "stdout",
       "text": [
        "--Call--\n",
        "> <ipython-input-6-03b205ee0df2>(8)__call__()\n",
        "-> def __call__(self, *args):\n"
       ]
      },
      {
       "name": "stdout",
       "output_type": "stream",
       "stream": "stdout",
       "text": [
        "(Pdb) s\n"
       ]
      },
      {
       "output_type": "stream",
       "stream": "stdout",
       "text": [
        "> <ipython-input-6-03b205ee0df2>(9)__call__()\n",
        "-> return self.evaluate(*args)\n"
       ]
      },
      {
       "name": "stdout",
       "output_type": "stream",
       "stream": "stdout",
       "text": [
        "(Pdb) s\n"
       ]
      },
      {
       "output_type": "stream",
       "stream": "stdout",
       "text": [
        "--Call--\n",
        "> <ipython-input-34-f2a7431c7962>(4)evaluate()\n",
        "-> @classmethod\n"
       ]
      },
      {
       "name": "stdout",
       "output_type": "stream",
       "stream": "stdout",
       "text": [
        "(Pdb) s\n"
       ]
      },
      {
       "output_type": "stream",
       "stream": "stdout",
       "text": [
        "> <ipython-input-34-f2a7431c7962>(6)evaluate()\n",
        "-> def getter(m):\n"
       ]
      },
      {
       "name": "stdout",
       "output_type": "stream",
       "stream": "stdout",
       "text": [
        "(Pdb) n\n"
       ]
      },
      {
       "output_type": "stream",
       "stream": "stdout",
       "text": [
        "> <ipython-input-34-f2a7431c7962>(9)evaluate()\n",
        "-> def oper(opname, left, right):\n"
       ]
      },
      {
       "name": "stdout",
       "output_type": "stream",
       "stream": "stdout",
       "text": [
        "(Pdb) \n"
       ]
      },
      {
       "output_type": "stream",
       "stream": "stdout",
       "text": [
        "> <ipython-input-34-f2a7431c7962>(21)evaluate()\n",
        "-> operators = dict((opname, functools.partial(oper, opname))\n"
       ]
      },
      {
       "name": "stdout",
       "output_type": "stream",
       "stream": "stdout",
       "text": [
        "(Pdb) \n"
       ]
      },
      {
       "output_type": "stream",
       "stream": "stdout",
       "text": [
        "> <ipython-input-34-f2a7431c7962>(22)evaluate()\n",
        "-> for opname in OPERATORS)\n"
       ]
      },
      {
       "name": "stdout",
       "output_type": "stream",
       "stream": "stdout",
       "text": [
        "(Pdb) \n"
       ]
      },
      {
       "output_type": "stream",
       "stream": "stdout",
       "text": [
        "> <ipython-input-34-f2a7431c7962>(24)evaluate()\n",
        "-> args, func = cls.tree.evaluate(operators, getter=getter)\n"
       ]
      },
      {
       "name": "stdout",
       "output_type": "stream",
       "stream": "stdout",
       "text": [
        "(Pdb) s\n"
       ]
      },
      {
       "output_type": "stream",
       "stream": "stdout",
       "text": [
        "--Call--\n",
        "> <ipython-input-35-38bdc0f27b7e>(74)evaluate()\n",
        "-> def evaluate(self, operators, getter=None):\n"
       ]
      },
      {
       "name": "stdout",
       "output_type": "stream",
       "stream": "stdout",
       "text": [
        "(Pdb) s\n"
       ]
      },
      {
       "output_type": "stream",
       "stream": "stdout",
       "text": [
        "> <ipython-input-35-38bdc0f27b7e>(87)evaluate()\n",
        "-> operands = deque()\n"
       ]
      },
      {
       "name": "stdout",
       "output_type": "stream",
       "stream": "stdout",
       "text": [
        "(Pdb) n\n"
       ]
      },
      {
       "output_type": "stream",
       "stream": "stdout",
       "text": [
        "> <ipython-input-35-38bdc0f27b7e>(89)evaluate()\n",
        "-> for node in self.traverse_postorder():\n"
       ]
      },
      {
       "name": "stdout",
       "output_type": "stream",
       "stream": "stdout",
       "text": [
        "(Pdb) \n"
       ]
      },
      {
       "output_type": "stream",
       "stream": "stdout",
       "text": [
        "> <ipython-input-35-38bdc0f27b7e>(90)evaluate()\n",
        "-> if node.isleaf:\n"
       ]
      },
      {
       "name": "stdout",
       "output_type": "stream",
       "stream": "stdout",
       "text": [
        "(Pdb) \n"
       ]
      },
      {
       "output_type": "stream",
       "stream": "stdout",
       "text": [
        "> <ipython-input-35-38bdc0f27b7e>(92)evaluate()\n",
        "-> operands.append(getter(node.value))\n"
       ]
      },
      {
       "name": "stdout",
       "output_type": "stream",
       "stream": "stdout",
       "text": [
        "(Pdb) \n"
       ]
      },
      {
       "output_type": "stream",
       "stream": "stdout",
       "text": [
        "> <ipython-input-35-38bdc0f27b7e>(89)evaluate()\n",
        "-> for node in self.traverse_postorder():\n"
       ]
      },
      {
       "name": "stdout",
       "output_type": "stream",
       "stream": "stdout",
       "text": [
        "(Pdb) operands\n"
       ]
      },
      {
       "output_type": "stream",
       "stream": "stdout",
       "text": [
        "deque([((2,), <function evaluate at 0x1bfad70>)])\n"
       ]
      },
      {
       "name": "stdout",
       "output_type": "stream",
       "stream": "stdout",
       "text": [
        "(Pdb) \n"
       ]
      },
      {
       "output_type": "stream",
       "stream": "stdout",
       "text": [
        "deque([((2,), <function evaluate at 0x1bfad70>)])\n"
       ]
      },
      {
       "name": "stdout",
       "output_type": "stream",
       "stream": "stdout",
       "text": [
        "(Pdb) n\n"
       ]
      },
      {
       "output_type": "stream",
       "stream": "stdout",
       "text": [
        "> <ipython-input-35-38bdc0f27b7e>(90)evaluate()\n",
        "-> if node.isleaf:\n"
       ]
      },
      {
       "name": "stdout",
       "output_type": "stream",
       "stream": "stdout",
       "text": [
        "(Pdb) \n"
       ]
      },
      {
       "output_type": "stream",
       "stream": "stdout",
       "text": [
        "> <ipython-input-35-38bdc0f27b7e>(92)evaluate()\n",
        "-> operands.append(getter(node.value))\n"
       ]
      },
      {
       "name": "stdout",
       "output_type": "stream",
       "stream": "stdout",
       "text": [
        "(Pdb) \n"
       ]
      },
      {
       "output_type": "stream",
       "stream": "stdout",
       "text": [
        "> <ipython-input-35-38bdc0f27b7e>(89)evaluate()\n",
        "-> for node in self.traverse_postorder():\n"
       ]
      },
      {
       "name": "stdout",
       "output_type": "stream",
       "stream": "stdout",
       "text": [
        "(Pdb) operands\n"
       ]
      },
      {
       "output_type": "stream",
       "stream": "stdout",
       "text": [
        "deque([((2,), <function evaluate at 0x1bfad70>), ((2,), <function evaluate at 0x1b1b8c0>)])\n"
       ]
      },
      {
       "name": "stdout",
       "output_type": "stream",
       "stream": "stdout",
       "text": [
        "(Pdb) operands[0]\n"
       ]
      },
      {
       "output_type": "stream",
       "stream": "stdout",
       "text": [
        "((2,), <function evaluate at 0x1bfad70>)\n"
       ]
      },
      {
       "name": "stdout",
       "output_type": "stream",
       "stream": "stdout",
       "text": [
        "(Pdb) operands[0][1](*operands[0][0])\n"
       ]
      },
      {
       "output_type": "stream",
       "stream": "stdout",
       "text": [
        "2\n"
       ]
      },
      {
       "name": "stdout",
       "output_type": "stream",
       "stream": "stdout",
       "text": [
        "(Pdb) operands[1][1](*operands[1][0])\n"
       ]
      },
      {
       "output_type": "stream",
       "stream": "stdout",
       "text": [
        "4\n"
       ]
      },
      {
       "name": "stdout",
       "output_type": "stream",
       "stream": "stdout",
       "text": [
        "(Pdb) n\n"
       ]
      },
      {
       "output_type": "stream",
       "stream": "stdout",
       "text": [
        "> <ipython-input-35-38bdc0f27b7e>(90)evaluate()\n",
        "-> if node.isleaf:\n"
       ]
      },
      {
       "name": "stdout",
       "output_type": "stream",
       "stream": "stdout",
       "text": [
        "(Pdb) node\n"
       ]
      },
      {
       "output_type": "stream",
       "stream": "stdout",
       "text": [
        "                            [|]                            \n",
        "              _____________/   \\_____________              \n",
        "<class '__main__.Identity'>      <class '__main__.Square'> \n"
       ]
      },
      {
       "name": "stdout",
       "output_type": "stream",
       "stream": "stdout",
       "text": [
        "(Pdb) node.value\n"
       ]
      },
      {
       "output_type": "stream",
       "stream": "stdout",
       "text": [
        "'|'\n"
       ]
      },
      {
       "name": "stdout",
       "output_type": "stream",
       "stream": "stdout",
       "text": [
        "(Pdb) n\n"
       ]
      },
      {
       "output_type": "stream",
       "stream": "stdout",
       "text": [
        "> <ipython-input-35-38bdc0f27b7e>(94)evaluate()\n",
        "-> operator = operators[node.value]\n"
       ]
      },
      {
       "name": "stdout",
       "output_type": "stream",
       "stream": "stdout",
       "text": [
        "(Pdb) \n"
       ]
      },
      {
       "output_type": "stream",
       "stream": "stdout",
       "text": [
        "> <ipython-input-35-38bdc0f27b7e>(95)evaluate()\n",
        "-> right = operands.pop()\n"
       ]
      },
      {
       "name": "stdout",
       "output_type": "stream",
       "stream": "stdout",
       "text": [
        "(Pdb) operator\n"
       ]
      },
      {
       "output_type": "stream",
       "stream": "stdout",
       "text": [
        "<functools.partial object at 0x1cfd260>\n"
       ]
      },
      {
       "name": "stdout",
       "output_type": "stream",
       "stream": "stdout",
       "text": [
        "(Pdb) n\n"
       ]
      },
      {
       "output_type": "stream",
       "stream": "stdout",
       "text": [
        "> <ipython-input-35-38bdc0f27b7e>(96)evaluate()\n",
        "-> left = operands.pop()\n"
       ]
      },
      {
       "name": "stdout",
       "output_type": "stream",
       "stream": "stdout",
       "text": [
        "(Pdb) \n"
       ]
      },
      {
       "output_type": "stream",
       "stream": "stdout",
       "text": [
        "> <ipython-input-35-38bdc0f27b7e>(97)evaluate()\n",
        "-> operands.append(operator(left, right))\n"
       ]
      },
      {
       "name": "stdout",
       "output_type": "stream",
       "stream": "stdout",
       "text": [
        "(Pdb) left\n"
       ]
      },
      {
       "output_type": "stream",
       "stream": "stdout",
       "text": [
        "((2,), <function evaluate at 0x1bfad70>)\n"
       ]
      },
      {
       "name": "stdout",
       "output_type": "stream",
       "stream": "stdout",
       "text": [
        "(Pdb) right\n"
       ]
      },
      {
       "output_type": "stream",
       "stream": "stdout",
       "text": [
        "((2,), <function evaluate at 0x1b1b8c0>)\n"
       ]
      },
      {
       "name": "stdout",
       "output_type": "stream",
       "stream": "stdout",
       "text": [
        "(Pdb) s\n"
       ]
      },
      {
       "output_type": "stream",
       "stream": "stdout",
       "text": [
        "--Call--\n",
        "> <ipython-input-34-f2a7431c7962>(9)oper()\n",
        "-> def oper(opname, left, right):\n"
       ]
      },
      {
       "name": "stdout",
       "output_type": "stream",
       "stream": "stdout",
       "text": [
        "(Pdb) s\n"
       ]
      },
      {
       "output_type": "stream",
       "stream": "stdout",
       "text": [
        "> <ipython-input-34-f2a7431c7962>(10)oper()\n",
        "-> op = OPERATORS[opname]\n"
       ]
      },
      {
       "name": "stdout",
       "output_type": "stream",
       "stream": "stdout",
       "text": [
        "(Pdb) n\n"
       ]
      },
      {
       "output_type": "stream",
       "stream": "stdout",
       "text": [
        "> <ipython-input-34-f2a7431c7962>(11)oper()\n",
        "-> leftargs, leftfunc = left\n"
       ]
      },
      {
       "name": "stdout",
       "output_type": "stream",
       "stream": "stdout",
       "text": [
        "(Pdb) \n"
       ]
      },
      {
       "output_type": "stream",
       "stream": "stdout",
       "text": [
        "> <ipython-input-34-f2a7431c7962>(12)oper()\n",
        "-> rightargs, rightfunc = right\n"
       ]
      },
      {
       "name": "stdout",
       "output_type": "stream",
       "stream": "stdout",
       "text": [
        "(Pdb) \n"
       ]
      },
      {
       "output_type": "stream",
       "stream": "stdout",
       "text": [
        "> <ipython-input-34-f2a7431c7962>(14)oper()\n",
        "-> if opname == '|':\n"
       ]
      },
      {
       "name": "stdout",
       "output_type": "stream",
       "stream": "stdout",
       "text": [
        "(Pdb) leftargs\n"
       ]
      },
      {
       "output_type": "stream",
       "stream": "stdout",
       "text": [
        "(2,)\n"
       ]
      },
      {
       "name": "stdout",
       "output_type": "stream",
       "stream": "stdout",
       "text": [
        "(Pdb) rightargs\n"
       ]
      },
      {
       "output_type": "stream",
       "stream": "stdout",
       "text": [
        "(2,)\n"
       ]
      },
      {
       "name": "stdout",
       "output_type": "stream",
       "stream": "stdout",
       "text": [
        "(Pdb) leftfunc(1)\n"
       ]
      },
      {
       "output_type": "stream",
       "stream": "stdout",
       "text": [
        "1\n"
       ]
      },
      {
       "name": "stdout",
       "output_type": "stream",
       "stream": "stdout",
       "text": [
        "(Pdb) leftfunc(2)\n"
       ]
      },
      {
       "output_type": "stream",
       "stream": "stdout",
       "text": [
        "2\n"
       ]
      },
      {
       "name": "stdout",
       "output_type": "stream",
       "stream": "stdout",
       "text": [
        "(Pdb) rightfunc(2)\n"
       ]
      },
      {
       "output_type": "stream",
       "stream": "stdout",
       "text": [
        "4\n"
       ]
      },
      {
       "name": "stdout",
       "output_type": "stream",
       "stream": "stdout",
       "text": [
        "(Pdb) l\n"
       ]
      },
      {
       "output_type": "stream",
       "stream": "stdout",
       "text": [
        "  9  \t        def oper(opname, left, right):\n",
        " 10  \t            op = OPERATORS[opname]\n",
        " 11  \t            leftargs, leftfunc = left\n",
        " 12  \t            rightargs, rightfunc = right\n",
        " 13  \t            \n",
        " 14  ->\t            if opname == '|':\n",
        " 15  \t                result = op(leftfunc, rightfunc)\n",
        " 16  \t                outargs = (result(*leftargs),)\n",
        " 17  \t                return (outargs, result)\n",
        " 18  \t            \n",
        " 19  \t            return (leftargs, lambda *args: op(leftfunc(*args), rightfunc(*args)))\n"
       ]
      },
      {
       "name": "stdout",
       "output_type": "stream",
       "stream": "stdout",
       "text": [
        "(Pdb) n\n"
       ]
      },
      {
       "output_type": "stream",
       "stream": "stdout",
       "text": [
        "> <ipython-input-34-f2a7431c7962>(15)oper()\n",
        "-> result = op(leftfunc, rightfunc)\n"
       ]
      },
      {
       "name": "stdout",
       "output_type": "stream",
       "stream": "stdout",
       "text": [
        "(Pdb) \n"
       ]
      },
      {
       "output_type": "stream",
       "stream": "stdout",
       "text": [
        "> <ipython-input-34-f2a7431c7962>(16)oper()\n",
        "-> outargs = (result(*leftargs),)\n"
       ]
      },
      {
       "name": "stdout",
       "output_type": "stream",
       "stream": "stdout",
       "text": [
        "(Pdb) result\n"
       ]
      },
      {
       "output_type": "stream",
       "stream": "stdout",
       "text": [
        "<function <lambda> at 0x1cf6b18>\n"
       ]
      },
      {
       "name": "stdout",
       "output_type": "stream",
       "stream": "stdout",
       "text": [
        "(Pdb) leftargs\n"
       ]
      },
      {
       "output_type": "stream",
       "stream": "stdout",
       "text": [
        "(2,)\n"
       ]
      },
      {
       "name": "stdout",
       "output_type": "stream",
       "stream": "stdout",
       "text": [
        "(Pdb) result(*leftargs)\n"
       ]
      },
      {
       "output_type": "stream",
       "stream": "stdout",
       "text": [
        "4\n"
       ]
      },
      {
       "name": "stdout",
       "output_type": "stream",
       "stream": "stdout",
       "text": [
        "(Pdb) \n"
       ]
      },
      {
       "output_type": "stream",
       "stream": "stdout",
       "text": [
        "4\n"
       ]
      },
      {
       "name": "stdout",
       "output_type": "stream",
       "stream": "stdout",
       "text": [
        "(Pdb) n\n"
       ]
      },
      {
       "output_type": "stream",
       "stream": "stdout",
       "text": [
        "> <ipython-input-34-f2a7431c7962>(17)oper()\n",
        "-> return (outargs, result)\n"
       ]
      },
      {
       "name": "stdout",
       "output_type": "stream",
       "stream": "stdout",
       "text": [
        "(Pdb) outargs\n"
       ]
      },
      {
       "output_type": "stream",
       "stream": "stdout",
       "text": [
        "(4,)\n"
       ]
      },
      {
       "name": "stdout",
       "output_type": "stream",
       "stream": "stdout",
       "text": [
        "(Pdb) result\n"
       ]
      },
      {
       "output_type": "stream",
       "stream": "stdout",
       "text": [
        "<function <lambda> at 0x1cf6b18>\n"
       ]
      },
      {
       "name": "stdout",
       "output_type": "stream",
       "stream": "stdout",
       "text": [
        "(Pdb) n\n"
       ]
      },
      {
       "output_type": "stream",
       "stream": "stdout",
       "text": [
        "--Return--\n",
        "> <ipython-input-34-f2a7431c7962>(17)oper()->((4,), <functio...x1cf6b18>)\n",
        "-> return (outargs, result)\n"
       ]
      },
      {
       "name": "stdout",
       "output_type": "stream",
       "stream": "stdout",
       "text": [
        "(Pdb) \n"
       ]
      },
      {
       "output_type": "stream",
       "stream": "stdout",
       "text": [
        "> <ipython-input-35-38bdc0f27b7e>(89)evaluate()\n",
        "-> for node in self.traverse_postorder():\n"
       ]
      },
      {
       "name": "stdout",
       "output_type": "stream",
       "stream": "stdout",
       "text": [
        "(Pdb) \n"
       ]
      },
      {
       "output_type": "stream",
       "stream": "stdout",
       "text": [
        "> <ipython-input-35-38bdc0f27b7e>(99)evaluate()\n",
        "-> return operands.pop()\n"
       ]
      },
      {
       "name": "stdout",
       "output_type": "stream",
       "stream": "stdout",
       "text": [
        "(Pdb) \n"
       ]
      },
      {
       "output_type": "stream",
       "stream": "stdout",
       "text": [
        "--Return--\n",
        "> <ipython-input-35-38bdc0f27b7e>(99)evaluate()->((4,), <functio...x1cf6b18>)\n",
        "-> return operands.pop()\n"
       ]
      },
      {
       "name": "stdout",
       "output_type": "stream",
       "stream": "stdout",
       "text": [
        "(Pdb) \n"
       ]
      },
      {
       "output_type": "stream",
       "stream": "stdout",
       "text": [
        "> <ipython-input-34-f2a7431c7962>(25)evaluate()\n",
        "-> return func(*args)\n"
       ]
      },
      {
       "name": "stdout",
       "output_type": "stream",
       "stream": "stdout",
       "text": [
        "(Pdb) func\n"
       ]
      },
      {
       "output_type": "stream",
       "stream": "stdout",
       "text": [
        "<function <lambda> at 0x1cf6b18>\n"
       ]
      },
      {
       "name": "stdout",
       "output_type": "stream",
       "stream": "stdout",
       "text": [
        "(Pdb) args\n"
       ]
      },
      {
       "output_type": "stream",
       "stream": "stdout",
       "text": [
        "cls = <class '__main__.SomeUniqueName16'>\n",
        "args = (4,)\n"
       ]
      },
      {
       "name": "stdout",
       "output_type": "stream",
       "stream": "stdout",
       "text": [
        "(Pdb) q\n"
       ]
      }
     ],
     "prompt_number": 63
    },
    {
     "cell_type": "markdown",
     "metadata": {},
     "source": [
      "`a + (b * c) -->`\n",
      "\n",
      "```\n",
      "      +\n",
      "  a        *\n",
      "        b      c\n",
      "```"
     ]
    },
    {
     "cell_type": "code",
     "collapsed": false,
     "input": [
      "tree = ExpressionTree('+', ExpressionTree('a'), ExpressionTree('*', ExpressionTree('b'), ExpressionTree('c')))"
     ],
     "language": "python",
     "metadata": {},
     "outputs": [],
     "prompt_number": 390
    },
    {
     "cell_type": "code",
     "collapsed": false,
     "input": [
      "[t.value for t in tree.traverse_preorder()]"
     ],
     "language": "python",
     "metadata": {},
     "outputs": [
      {
       "metadata": {},
       "output_type": "pyout",
       "prompt_number": 391,
       "text": [
        "['+', 'a', '*', 'b', 'c']"
       ]
      }
     ],
     "prompt_number": 391
    },
    {
     "cell_type": "code",
     "collapsed": false,
     "input": [
      "[t.value for t in tree.traverse_postorder()]"
     ],
     "language": "python",
     "metadata": {},
     "outputs": [
      {
       "metadata": {},
       "output_type": "pyout",
       "prompt_number": 392,
       "text": [
        "['a', 'b', 'c', '*', '+']"
       ]
      }
     ],
     "prompt_number": 392
    },
    {
     "cell_type": "code",
     "collapsed": false,
     "input": [
      "[t.value for t in tree.traverse_inorder()]"
     ],
     "language": "python",
     "metadata": {},
     "outputs": [
      {
       "metadata": {},
       "output_type": "pyout",
       "prompt_number": 73,
       "text": [
        "['a', '+', 'b', '*', 'c']"
       ]
      }
     ],
     "prompt_number": 73
    },
    {
     "cell_type": "code",
     "collapsed": false,
     "input": [
      "def format_tree_ascii(tree):\n",
      "    getter = lambda v: str(v)\n",
      "\n",
      "    def draw_subtree(op, left, right):\n",
      "        lines = []\n",
      "        node_text = '__[{0}]__'.format(op)\n",
      "        width = len(left) + len(node_text) + len(right)\n",
      "        spine_width = len(left) / 2 + len(node_text) + len(right) / 2 - 2\n",
      "        spine = ',' + node_text.center(spine_width, '_') + ','\n",
      "        print 'width', width\n",
      "        \n",
      "        lines.append(spine.center(width))\n",
      "        lines.append(left + ' ' * len(node_text) + right)\n",
      "        print lines\n",
      "        return '\\n'.join(lines)\n",
      "    \n",
      "    operators = dict((opname, functools.partial(draw_subtree, opname))\n",
      "                     for opname in OPERATORS)\n",
      "    \n",
      "    return tree.evaluate(operators, getter=getter)"
     ],
     "language": "python",
     "metadata": {},
     "outputs": [],
     "prompt_number": 393
    },
    {
     "cell_type": "code",
     "collapsed": false,
     "input": [
      "def format_tree_ascii(tree):\n",
      "    stack = deque()\n",
      "    ops = 0\n",
      "    \n",
      "    for node in tree.traverse_postorder():\n",
      "        if node.isleaf:\n",
      "            text = str(node.value)\n",
      "            stack.append((len(text), [text]))\n",
      "        else:\n",
      "            ops += 1\n",
      "            height = 1 + ops // 2\n",
      "            print 'height', height\n",
      "            #print lines\n",
      "            right_width, right = stack.pop()\n",
      "            left_width, left = stack.pop()\n",
      "            \n",
      "            op_text = '__[{0}]__'.format(node.value)\n",
      "            ###spine_width = left_width // 2 + len(op_text) + right_width // 2\n",
      "            spine_width = len(op_text)\n",
      "            spine = ',' + op_text.center(spine_width, '_') + ','\n",
      "            width = left_width + spine_width + right_width\n",
      "\n",
      "            first = spine.center(width)\n",
      "            #offset = ' ' * ((width - len(spine)) // 2)\n",
      "            #second = offset + left + ' ' * len(op_text) + right\n",
      "            ##second = left + ' ' * len(op_text) + right\n",
      "            fill = ' ' * len(op_text)\n",
      "            lines = [first]\n",
      "            for l, r in izip_longest(left, right, fillvalue=''):\n",
      "                #if len(l) < len(r):\n",
      "                #    l = (' ' * (len(r) // 2 - len(l))) + l\n",
      "                #elif len(r) < len(l):\n",
      "                #    r = r + (' ' * (len(l) // 2 + len(l) % 2 - len(r)))\n",
      "                lines.append((l + fill + r).center(width))\n",
      "            \n",
      "            #if len(lines) < height:\n",
      "            #    lines.append(second)\n",
      "            #    lines.append(first)\n",
      "            #else:\n",
      "            #    lines.append(first)\n",
      "            #    orig_second = lines[-2]\n",
      "            #    lines[-2] = second\n",
      "            #    lines[-3] = ' ' * (len(second) - len(orig_second)) + lines[-3]\n",
      "            \n",
      "            #leafs.append(first)\n",
      "            ##stack.append((width, [first, second]))\n",
      "            stack.append((width, lines))\n",
      "                \n",
      "            \n",
      "    #return textwrap.dedent('\\n'.join(stack[0][1]))\n",
      "    return '\\n'.join(stack[0][1])"
     ],
     "language": "python",
     "metadata": {},
     "outputs": [],
     "prompt_number": 526
    },
    {
     "cell_type": "code",
     "collapsed": false,
     "input": [
      "def format_tree_ascii(tree):\n",
      "    stack = deque()\n",
      "    \n",
      "    for node in tree.traverse_postorder():\n",
      "        if node.isleaf:\n",
      "            text = str(node.value)\n",
      "            stack.append((len(text), [text]))\n",
      "        else:\n",
      "            right_width, right = stack.pop()\n",
      "            left_width, left = stack.pop()\n",
      "            \n",
      "            if left_width > right_width:\n",
      "                right = [r.center(left_width) for r in right]\n",
      "                child_width = left_width\n",
      "            elif right_width > left_width:\n",
      "                left = [l.center(right_width) for l in left]\n",
      "                child_width = right_width\n",
      "            else:\n",
      "                child_width = left_width  # without loss of generality\n",
      "            \n",
      "            root = '[{0}]'.format(node.value)\n",
      "            spine = '/   \\\\'\n",
      "            fill = ' ' * len(spine)\n",
      "            width = 2 * child_width + len(fill)\n",
      "            \n",
      "            offset = child_width - (child_width % 2)\n",
      "            spine = spine.center(width - 2 - offset, '_').center(width)\n",
      "            root = root.center(width)\n",
      "\n",
      "            lines = [root, spine]\n",
      "            for l, r in izip_longest(left, right, fillvalue=' ' * child_width):\n",
      "                lines.append(l + fill + r)\n",
      "            \n",
      "            stack.append((width, lines))\n",
      "                \n",
      "            \n",
      "    return textwrap.dedent('\\n'.join(stack[0][1]))"
     ],
     "language": "python",
     "metadata": {},
     "outputs": [],
     "prompt_number": 683
    },
    {
     "cell_type": "code",
     "collapsed": false,
     "input": [
      "x = ExpressionTree('+', ExpressionTree('a'), ExpressionTree('abc'))\n",
      "print format_tree_ascii(x)"
     ],
     "language": "python",
     "metadata": {},
     "outputs": [
      {
       "output_type": "stream",
       "stream": "stdout",
       "text": [
        "   [+]    \n",
        " _/   \\_  \n",
        "a      abc\n"
       ]
      }
     ],
     "prompt_number": 699
    },
    {
     "cell_type": "code",
     "collapsed": false,
     "input": [
      "a = Identity('a')\n",
      "b = Identity('b')\n",
      "c = Identity('c')\n",
      "\n",
      "abc = a + (b * c)\n",
      "print format_tree_ascii(abc.tree)"
     ],
     "language": "python",
     "metadata": {},
     "outputs": [
      {
       "output_type": "stream",
       "stream": "stdout",
       "text": [
        "     [+]        \n",
        " ___/   \\___    \n",
        "a          [*]  \n",
        "          /   \\ \n",
        "         b     c\n"
       ]
      }
     ],
     "prompt_number": 685
    },
    {
     "cell_type": "code",
     "collapsed": false,
     "input": [
      "a = Identity('a')\n",
      "b = Identity('b')\n",
      "c = Identity('c')\n",
      "d = Identity('d')\n",
      "\n",
      "abcd = (a * b) + (c * d)\n",
      "print [str(t.value) for t in abcd.tree.traverse_postorder()]\n",
      "print format_tree_ascii(abcd.tree)"
     ],
     "language": "python",
     "metadata": {},
     "outputs": [
      {
       "output_type": "stream",
       "stream": "stdout",
       "text": [
        "['a', 'b', '*', 'c', 'd', '*', '+']\n",
        "        [+]        \n",
        "    ___/   \\___    \n",
        "  [*]         [*]  \n",
        " /   \\       /   \\ \n",
        "a     b     c     d\n"
       ]
      }
     ],
     "prompt_number": 686
    },
    {
     "cell_type": "code",
     "collapsed": false,
     "input": [
      "a = Identity('abcde')\n",
      "b = Identity('b')\n",
      "c = Identity('ce')\n",
      "\n",
      "abc = (b * c) + a\n",
      "print format_tree_ascii(abc.tree)"
     ],
     "language": "python",
     "metadata": {},
     "outputs": [
      {
       "output_type": "stream",
       "stream": "stdout",
       "text": [
        "          [+]          \n",
        "     ____/   \\____     \n",
        "   [*]          abcde  \n",
        "  /   \\                \n",
        "b      ce              \n"
       ]
      }
     ],
     "prompt_number": 687
    },
    {
     "cell_type": "code",
     "collapsed": false,
     "input": [
      "x = lambda a, b: (lambda c: a + b + c)"
     ],
     "language": "python",
     "metadata": {},
     "outputs": [],
     "prompt_number": 707
    },
    {
     "cell_type": "code",
     "collapsed": false,
     "input": [
      "x(1, 2)(3)"
     ],
     "language": "python",
     "metadata": {},
     "outputs": [
      {
       "metadata": {},
       "output_type": "pyout",
       "prompt_number": 709,
       "text": [
        "6"
       ]
      }
     ],
     "prompt_number": 709
    },
    {
     "cell_type": "code",
     "collapsed": false,
     "input": [],
     "language": "python",
     "metadata": {},
     "outputs": []
    }
   ],
   "metadata": {}
  }
 ]
}