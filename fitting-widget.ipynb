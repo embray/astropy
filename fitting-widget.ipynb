{
 "metadata": {
  "name": "",
  "signature": "sha256:89ad4ad64d58f2520a7b2b1ba3d6db96780409505b878bed07c0a7e331418bfc"
 },
 "nbformat": 3,
 "nbformat_minor": 0,
 "worksheets": [
  {
   "cells": [
    {
     "cell_type": "code",
     "collapsed": false,
     "input": [
      "%matplotlib inline"
     ],
     "language": "python",
     "metadata": {},
     "outputs": [],
     "prompt_number": 1
    },
    {
     "cell_type": "code",
     "collapsed": false,
     "input": [
      "from IPython.html import widgets\n",
      "from IPython.html.widgets import interact\n",
      "from IPython.display import display, HTML\n",
      "\n",
      "import numpy as np\n",
      "from matplotlib import pyplot as plt\n",
      "from matplotlib.backends.backend_agg import FigureCanvasAgg\n",
      "\n",
      "from astropy.utils import OrderedDict\n",
      "\n",
      "import io"
     ],
     "language": "python",
     "metadata": {},
     "outputs": [],
     "prompt_number": 45
    },
    {
     "cell_type": "code",
     "collapsed": false,
     "input": [
      "def show_args(**kwargs):\n",
      "    s = '<h3>Arguments:</h3><table>\\n'\n",
      "    for k,v in kwargs.items():\n",
      "        s += '<tr><td>{0}</td><td>{1}</td></tr>\\n'.format(k,v)\n",
      "    s += '</table>'\n",
      "    display(HTML(s))"
     ],
     "language": "python",
     "metadata": {},
     "outputs": [],
     "prompt_number": 3
    },
    {
     "cell_type": "code",
     "collapsed": false,
     "input": [
      "show_args(a=1, b=2, c='hello')"
     ],
     "language": "python",
     "metadata": {},
     "outputs": [
      {
       "html": [
        "<h3>Arguments:</h3><table>\n",
        "<tr><td>a</td><td>1</td></tr>\n",
        "<tr><td>c</td><td>hello</td></tr>\n",
        "<tr><td>b</td><td>2</td></tr>\n",
        "</table>"
       ],
       "metadata": {},
       "output_type": "display_data",
       "text": [
        "<IPython.core.display.HTML at 0x42dfd10>"
       ]
      }
     ],
     "prompt_number": 4
    },
    {
     "cell_type": "code",
     "collapsed": false,
     "input": [
      "i = interact(show_args,\n",
      "         Temp=(0,10),\n",
      "         Current=(0.,10.,0.01),\n",
      "         z=True,\n",
      "         Text=u'Type here!',\n",
      "         Algorithm=['This','That','Other'],\n",
      "         a=widgets.FloatSliderWidget(min=-10.0, max=10.0, step=0.1, value=5.0, description=\"Float (a)\")\n",
      "         )"
     ],
     "language": "python",
     "metadata": {},
     "outputs": [
      {
       "html": [
        "<h3>Arguments:</h3><table>\n",
        "<tr><td>Temp</td><td>5</td></tr>\n",
        "<tr><td>Algorithm</td><td>This</td></tr>\n",
        "<tr><td>Float (a)</td><td>5.0</td></tr>\n",
        "<tr><td>Current</td><td>4.99</td></tr>\n",
        "<tr><td>Text</td><td>Type here!</td></tr>\n",
        "<tr><td>z</td><td>True</td></tr>\n",
        "</table>"
       ],
       "metadata": {},
       "output_type": "display_data",
       "text": [
        "<IPython.core.display.HTML at 0x42e6350>"
       ]
      }
     ],
     "prompt_number": 5
    },
    {
     "cell_type": "code",
     "collapsed": false,
     "input": [
      "from matplotlib import pyplot as plt\n",
      "from astropy import modeling\n",
      "from astropy.modeling import models, fitting"
     ],
     "language": "python",
     "metadata": {},
     "outputs": [],
     "prompt_number": 6
    },
    {
     "cell_type": "code",
     "collapsed": false,
     "input": [
      "all_models = [m for m in models.__dict__.values() if isinstance(m, type) and issubclass(m, modeling.Model)]"
     ],
     "language": "python",
     "metadata": {},
     "outputs": [],
     "prompt_number": 7
    },
    {
     "cell_type": "code",
     "collapsed": false,
     "input": [
      "interact(lambda Model: display(Model), Model=[m.__name__ for m in all_models])"
     ],
     "language": "python",
     "metadata": {},
     "outputs": [
      {
       "metadata": {},
       "output_type": "display_data",
       "text": [
        "u'SIP'"
       ]
      },
      {
       "metadata": {},
       "output_type": "pyout",
       "prompt_number": 8,
       "text": [
        "<function __main__.<lambda>>"
       ]
      }
     ],
     "prompt_number": 8
    },
    {
     "cell_type": "code",
     "collapsed": false,
     "input": [
      "def make_parameters_widgets(model, title='Initial Parameters:'):\n",
      "    title = widgets.LatexWidget(value=title)\n",
      "    params = []\n",
      "    for name in model.param_names:\n",
      "        default = getattr(model, name).default\n",
      "        if default is None:\n",
      "            default = 0.0\n",
      "        params.append(widgets.FloatTextWidget(value=default, description=name + ':'))\n",
      "    container = widgets.ContainerWidget(children=[title] + params)\n",
      "    container.set_css({'border': '1px solid #ababab',\n",
      "                       'border-radius': '4px',\n",
      "                       'padding': '5px'})\n",
      "    return container"
     ],
     "language": "python",
     "metadata": {},
     "outputs": [],
     "prompt_number": 9
    },
    {
     "cell_type": "code",
     "collapsed": false,
     "input": [
      "def figure_to_png_bytes(fig):\n",
      "    buf = io.BytesIO()\n",
      "    canvas = FigureCanvasAgg(fig)\n",
      "    canvas.print_png(buf)\n",
      "    return buf.getvalue()"
     ],
     "language": "python",
     "metadata": {},
     "outputs": [],
     "prompt_number": 105
    },
    {
     "cell_type": "code",
     "collapsed": false,
     "input": [
      "def interactive_fit(*variables):\n",
      "    def qualname(obj):\n",
      "        if hasattr(obj, '__qualname__'):\n",
      "            return obj.__qualname__\n",
      "        else:\n",
      "            return '.'.join((obj.__module__, obj.__name__))\n",
      "        \n",
      "    # Plot the data\n",
      "    fig = plt.figure()\n",
      "    ax = fig.add_subplot(1, 1, 1)\n",
      "    ax.scatter(*variables, c='r', marker='o')\n",
      "    plt.close()\n",
      "    \n",
      "    image = widgets.ImageWidget(value=figure_to_bytes(fig))\n",
      "\n",
      "    models = OrderedDict([('', None)])\n",
      "    models.update((m.__name__, m)\n",
      "                  for m in sorted(modeling.Model.registry, key=qualname))\n",
      "\n",
      "    model_select = widgets.DropdownWidget(values=models,\n",
      "                                          description='Select a model type:')\n",
      "    model_container = widgets.ContainerWidget(children=(model_select,))\n",
      "\n",
      "    def model_select_on_value_change(name, value):\n",
      "        parameters = make_parameters_widgets(value)\n",
      "        model_container.children = (model_select, parameters)\n",
      "\n",
      "    model_select.on_trait_change(model_select_on_value_change, 'value')\n",
      "\n",
      "    def fit_button_on_click(b):\n",
      "        fitter_cls = fitter_select.value\n",
      "        fitter = fitter_cls()\n",
      "        model_cls = model_select.value\n",
      "        \n",
      "        parameters = model_container.children[-1]\n",
      "        \n",
      "        param_values = {}\n",
      "        \n",
      "        for param_name, param_widget in zip(model_cls.param_names, parameters.children[1:]):\n",
      "            param_values[param_name] = param_widget.value\n",
      "            \n",
      "        initial_model = model_cls(**param_values)\n",
      "        fitted_model = fitter(initial_model, *variables)\n",
      "        \n",
      "        # Plot the data\n",
      "        fig = plt.figure()\n",
      "        ax = fig.add_subplot(1, 1, 1)\n",
      "        ax.scatter(*variables, c='red', marker='o')\n",
      "        ax.plot(variables[0], fitted_model(variables[0]), c='green')\n",
      "        plt.close()\n",
      "        \n",
      "        image.value = figure_to_bytes(fig)\n",
      "        \n",
      "    fitters = OrderedDict((f.__name__, f)\n",
      "                          for f in sorted(fitting.Fitter.registry, key=qualname))\n",
      "    fitter_select = widgets.DropdownWidget(values=fitters,\n",
      "                                           description='Select a fitter:')\n",
      "    \n",
      "    fit_button = widgets.ButtonWidget(description='Show Fit')\n",
      "    fit_button.on_click(fit_button_on_click)\n",
      "    \n",
      "    fit_container = widgets.ContainerWidget(children=(fitter_select, fit_button))\n",
      "    fit_container.add_class('vbox')\n",
      "\n",
      "    display(model_container)\n",
      "    display(image)\n",
      "    display(fit_container)"
     ],
     "language": "python",
     "metadata": {},
     "outputs": [],
     "prompt_number": 63
    },
    {
     "cell_type": "code",
     "collapsed": false,
     "input": [
      "x = np.linspace(-5., 5., 200)\n",
      "y = 3 * np.exp(-0.5 * (x - 1.3)**2 / 0.8**2)\n",
      "y += np.random.normal(0., 0.2, x.shape)"
     ],
     "language": "python",
     "metadata": {},
     "outputs": [],
     "prompt_number": 70
    },
    {
     "cell_type": "code",
     "collapsed": false,
     "input": [
      "interactive_fit(x, y)"
     ],
     "language": "python",
     "metadata": {},
     "outputs": [
      {
       "output_type": "stream",
       "stream": "stdout",
       "text": [
        "Optimization terminated successfully.\n",
        "         Current function value: 28.681178\n",
        "         Iterations: 459\n",
        "         Function evaluations: 768\n"
       ]
      },
      {
       "output_type": "stream",
       "stream": "stdout",
       "text": [
        "Optimization terminated successfully.    (Exit mode 0)\n",
        "            Current function value: 102.7854672\n",
        "            Iterations: 21\n",
        "            Function evaluations: 224\n",
        "            Gradient evaluations: 21\n"
       ]
      },
      {
       "ename": "ModelLinearityError",
       "evalue": "Model is not linear in parameters, linear fit methods should not be used.",
       "output_type": "pyerr",
       "traceback": [
        "\u001b[1;31m---------------------------------------------------------------------------\u001b[0m\n\u001b[1;31mModelLinearityError\u001b[0m                       Traceback (most recent call last)",
        "\u001b[1;32m<ipython-input-63-f492f8a2ecc5>\u001b[0m in \u001b[0;36mfit_button_on_click\u001b[1;34m(b)\u001b[0m\n\u001b[0;32m     41\u001b[0m \u001b[1;33m\u001b[0m\u001b[0m\n\u001b[0;32m     42\u001b[0m         \u001b[0minitial_model\u001b[0m \u001b[1;33m=\u001b[0m \u001b[0mmodel_cls\u001b[0m\u001b[1;33m(\u001b[0m\u001b[1;33m**\u001b[0m\u001b[0mparam_values\u001b[0m\u001b[1;33m)\u001b[0m\u001b[1;33m\u001b[0m\u001b[0m\n\u001b[1;32m---> 43\u001b[1;33m         \u001b[0mfitted_model\u001b[0m \u001b[1;33m=\u001b[0m \u001b[0mfitter\u001b[0m\u001b[1;33m(\u001b[0m\u001b[0minitial_model\u001b[0m\u001b[1;33m,\u001b[0m \u001b[1;33m*\u001b[0m\u001b[0mvariables\u001b[0m\u001b[1;33m)\u001b[0m\u001b[1;33m\u001b[0m\u001b[0m\n\u001b[0m\u001b[0;32m     44\u001b[0m \u001b[1;33m\u001b[0m\u001b[0m\n\u001b[0;32m     45\u001b[0m         \u001b[1;31m# Plot the data\u001b[0m\u001b[1;33m\u001b[0m\u001b[1;33m\u001b[0m\u001b[0m\n",
        "\u001b[1;32m/home/iguananaut/src/astropy/astropy/modeling/fitting.pyc\u001b[0m in \u001b[0;36m__call__\u001b[1;34m(self, model, x, y, z, weights, rcond)\u001b[0m\n\u001b[0;32m    245\u001b[0m \u001b[1;33m\u001b[0m\u001b[0m\n\u001b[0;32m    246\u001b[0m         \u001b[1;32mif\u001b[0m \u001b[1;32mnot\u001b[0m \u001b[0mmodel\u001b[0m\u001b[1;33m.\u001b[0m\u001b[0mlinear\u001b[0m\u001b[1;33m:\u001b[0m\u001b[1;33m\u001b[0m\u001b[0m\n\u001b[1;32m--> 247\u001b[1;33m             raise ModelLinearityError('Model is not linear in parameters, '\n\u001b[0m\u001b[0;32m    248\u001b[0m                                       'linear fit methods should not be used.')\n\u001b[0;32m    249\u001b[0m \u001b[1;33m\u001b[0m\u001b[0m\n",
        "\u001b[1;31mModelLinearityError\u001b[0m: Model is not linear in parameters, linear fit methods should not be used."
       ]
      }
     ],
     "prompt_number": 71
    },
    {
     "cell_type": "code",
     "collapsed": false,
     "input": [
      "def plot_model_interactive():\n",
      "    all_models = OrderedDict((m.__name__, m)\n",
      "                             for m in sorted(modeling.Model.registry, key=qualname))\n",
      "    \n",
      "    image = widgets.ImageWidget()\n",
      "    image.visible = False\n",
      "    \n",
      "    model_select = widgets.DropdownWidget(values=all_models)\n",
      "    \n",
      "    parameters = widgets.ContainerWidget(children=[])\n",
      "    \n",
      "    x_min = widgets.FloatSliderWidget(value=0.0, min=-2*np.pi, max=2*np.pi, step=0.1)\n",
      "    x_max = widgets.FloatSliderWidget(value=0.0, min=-2*np.pi, max=2*np.pi, step=0.1)\n",
      "    \n",
      "    def update_params(model):\n",
      "        params = []\n",
      "        for name in model.param_names:\n",
      "            default = getattr(model, name).default\n",
      "            if default is None:\n",
      "                default = 0.0\n",
      "            params.append(widgets.FloatTextWidget(value=default, description=name + ':'))\n",
      "            \n",
      "        parameters.children = params\n",
      "    \n",
      "    def update_plot():\n",
      "        x = np.linspace(x_min.value, x_max.value, 100)\n",
      "        model_cls = model_select.value\n",
      "        params = dict((name, w.value)\n",
      "                      for name, w in zip(model_cls.param_names, parameters.children))\n",
      "        model = model_cls(**params)\n",
      "        output = model(x)\n",
      "\n",
      "        fig = plt.figure()\n",
      "        ax = fig.add_subplot(1, 1, 1)\n",
      "        ax.plot(x, output, color='green', lw=2)\n",
      "        plt.close()\n",
      "        \n",
      "        image.value = figure_to_png_bytes(fig)\n",
      "        image.visible = True\n",
      "        \n",
      "    def on_change_model(name, value):\n",
      "        update_params(value)\n",
      "        update_plot()\n",
      "        \n",
      "    def on_change(name, value):\n",
      "        update_plot()\n",
      "        \n",
      "    model_select.on_trait_change(on_change_model, 'value')\n",
      "    x_min.on_trait_change(on_change, 'value')\n",
      "    x_max.on_trait_change(on_change, 'value')\n",
      "        \n",
      "    display(model_select)\n",
      "    display(parameters)\n",
      "    display(x_min)\n",
      "    display(x_max)\n",
      "    display(image)"
     ],
     "language": "python",
     "metadata": {},
     "outputs": [],
     "prompt_number": 119
    },
    {
     "cell_type": "code",
     "collapsed": false,
     "input": [
      "plot_model_interactive()"
     ],
     "language": "python",
     "metadata": {},
     "outputs": [],
     "prompt_number": 120
    },
    {
     "cell_type": "code",
     "collapsed": false,
     "input": [
      "def qualname(obj):\n",
      "    if hasattr(obj, '__qualname__'):\n",
      "        return obj.__qualname__\n",
      "    else:\n",
      "        return '.'.join((obj.__module__, obj.__name__))"
     ],
     "language": "python",
     "metadata": {},
     "outputs": [],
     "prompt_number": 76
    }
   ],
   "metadata": {}
  }
 ]
}